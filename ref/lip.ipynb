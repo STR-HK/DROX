{
 "cells": [
  {
   "cell_type": "code",
   "execution_count": 3,
   "metadata": {},
   "outputs": [
    {
     "data": {
      "image/png": "[encoded data removed]",
      "text/plain": [
       "<Figure size 144x72 with 1 Axes>"
      ]
     },
     "metadata": {
      "needs_background": "light"
     },
     "output_type": "display_data"
    }
   ],
   "source": [
    "import seaborn as sns\n",
    "\n",
    "colors = [\"#FF0B04\", \"#4374B3\"]\n",
    "palette = sns.color_palette(colors)\n",
    "\n",
    "sns.set_palette(palette)\n",
    "sns.palplot(palette)\n"
   ]
  },
  {
   "cell_type": "code",
   "execution_count": 10,
   "metadata": {},
   "outputs": [
    {
     "name": "stdout",
     "output_type": "stream",
     "text": [
      "cache not exists\n",
      "generating clusters... may take a while\n",
      "cache not exists\n",
      "generating clusters... may take a while\n",
      "cache not exists\n",
      "generating clusters... may take a while\n",
      "cache not exists\n",
      "generating clusters... may take a while\n",
      "cache not exists\n",
      "generating clusters... may take a while\n",
      "cache not exists\n",
      "generating clusters... may take a while\n",
      "cache not exists\n",
      "generating clusters... may take a while\n",
      "cache not exists\n",
      "generating clusters... may take a while\n",
      "cache not exists\n",
      "generating clusters... may take a while\n",
      "cache not exists\n",
      "generating clusters... may take a while\n",
      "cache not exists\n",
      "generating clusters... may take a while\n",
      "cache not exists\n",
      "generating clusters... may take a while\n",
      "cache not exists\n",
      "generating clusters... may take a while\n",
      "cache not exists\n",
      "generating clusters... may take a while\n",
      "cache not exists\n",
      "generating clusters... may take a while\n",
      "cache not exists\n",
      "generating clusters... may take a while\n",
      "cache not exists\n",
      "generating clusters... may take a while\n",
      "cache not exists\n",
      "generating clusters... may take a while\n",
      "cache not exists\n",
      "generating clusters... may take a while\n",
      "cache not exists\n",
      "generating clusters... may take a while\n",
      "cache not exists\n",
      "generating clusters... may take a while\n",
      "cache not exists\n",
      "generating clusters... may take a while\n",
      "cache not exists\n",
      "generating clusters... may take a while\n",
      "cache not exists\n",
      "generating clusters... may take a while\n",
      "cache not exists\n",
      "generating clusters... may take a while\n",
      "cache not exists\n",
      "generating clusters... may take a while\n",
      "cache not exists\n",
      "generating clusters... may take a while\n",
      "cache not exists\n",
      "generating clusters... may take a while\n",
      "cache not exists\n",
      "generating clusters... may take a while\n",
      "cache not exists\n",
      "generating clusters... may take a while\n"
     ]
    },
    {
     "data": {
      "image/png": "[encoded data removed]",
      "text/plain": [
       "<Figure size 2160x72 with 1 Axes>"
      ]
     },
     "metadata": {
      "needs_background": "light"
     },
     "output_type": "display_data"
    }
   ],
   "source": [
    "import MyPicker\n",
    "import MyAssets\n",
    "import seaborn as sns\n",
    "\n",
    "colors = []\n",
    "\n",
    "for i in range(1, 30 + 1):\n",
    "    color = MyPicker.pick_color(MyAssets.C_Cover2, NUM_CLUSTERS=i, USE_CACHE=False)\n",
    "    colors.append(color)\n",
    "\n",
    "palette = sns.color_palette(colors)\n",
    "\n",
    "sns.set_palette(palette)\n",
    "sns.palplot(palette)\n"
   ]
  }
 ],
 "metadata": {
  "interpreter": {
   "hash": "d521115afba2f43bcea7535f86c914bf1bf83f670709c07d8679e1db8f8255ca"
  },
  "kernelspec": {
   "display_name": "Python 3.10.2 64-bit",
   "language": "python",
   "name": "python3"
  },
  "language_info": {
   "codemirror_mode": {
    "name": "ipython",
    "version": 3
   },
   "file_extension": ".py",
   "mimetype": "text/x-python",
   "name": "python",
   "nbconvert_exporter": "python",
   "pygments_lexer": "ipython3",
   "version": "3.10.2"
  },
  "orig_nbformat": 4
 },
 "nbformat": 4,
 "nbformat_minor": 2
}
